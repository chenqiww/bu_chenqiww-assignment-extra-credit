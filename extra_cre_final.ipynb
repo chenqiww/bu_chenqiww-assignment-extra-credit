{
  "cells": [
    {
      "cell_type": "code",
      "execution_count": 38,
      "metadata": {
        "colab": {
          "base_uri": "https://localhost:8080/"
        },
        "id": "VYwRUULttw4p",
        "outputId": "7c394d42-707c-400e-e568-e666e6b778a6"
      },
      "outputs": [
        {
          "output_type": "stream",
          "name": "stdout",
          "text": [
            "Final Model F1-score: 0.9796\n"
          ]
        }
      ],
      "source": [
        "import pandas as pd\n",
        "import numpy as np\n",
        "from sklearn.model_selection import train_test_split\n",
        "from sklearn.metrics import f1_score\n",
        "from datetime import datetime\n",
        "from math import radians, sin, cos, sqrt, atan2\n",
        "import xgboost as xgb\n",
        "\n",
        "#=====================\n",
        "# Helper Functions\n",
        "#=====================\n",
        "def calculate_age(dob_str, transaction_date):\n",
        "    dob = datetime.strptime(dob_str, '%Y-%m-%d')\n",
        "    return (transaction_date - dob).days // 365\n",
        "\n",
        "def haversine(lat1, lon1, lat2, lon2):\n",
        "    R = 6371.0  # radius of Earth in km\n",
        "    lat1, lon1, lat2, lon2 = map(radians, [lat1, lon1, lat2, lon2])\n",
        "    dlat = lat2 - lat1\n",
        "    dlon = lon2 - lon1\n",
        "    a = sin(dlat/2)**2 + cos(lat1)*cos(lat2)*sin(dlon/2)**2\n",
        "    c = 2 * atan2(sqrt(a), sqrt(1-a))\n",
        "    return R * c\n",
        "\n",
        "#=====================\n",
        "# Load Data\n",
        "#=====================\n",
        "data = pd.read_csv('/content/drive/MyDrive/cs506/train.csv')\n",
        "\n",
        "# Convert dates\n",
        "data['trans_date'] = pd.to_datetime(data['trans_date'])\n",
        "\n",
        "# Extract features\n",
        "data['trans_hour'] = data['trans_time'].str.split(':').str[0].astype(int)\n",
        "data['trans_day'] = data['trans_date'].dt.day\n",
        "data['trans_month'] = data['trans_date'].dt.month\n",
        "\n",
        "# Calculate age\n",
        "data['age'] = data.apply(lambda x: calculate_age(x['dob'], x['trans_date']), axis=1)\n",
        "\n",
        "# Calculate distance\n",
        "data['distance'] = data.apply(lambda x: haversine(x['lat'], x['long'], x['merch_lat'], x['merch_long']), axis=1)\n",
        "\n",
        "# Encode category\n",
        "category_dummies = pd.get_dummies(data['category'], prefix='cat')\n",
        "data = pd.concat([data, category_dummies], axis=1)\n",
        "\n",
        "# Encode gender\n",
        "data['gender'] = data['gender'].map({'M':0, 'F':1}).fillna(-1)\n",
        "\n",
        "# Features and Target\n",
        "cat_features = [col for col in data.columns if col.startswith('cat_')]\n",
        "feature_cols = ['amt', 'trans_hour', 'trans_day', 'trans_month', 'distance', 'age', 'city_pop', 'gender'] + cat_features\n",
        "target = 'is_fraud'\n",
        "\n",
        "X = data[feature_cols]\n",
        "y = data[target]\n",
        "\n",
        "# Split data\n",
        "X_train, X_val, y_train, y_val = train_test_split(X, y, stratify=y, test_size=0.2, random_state=42)\n",
        "\n",
        "#=====================\n",
        "# Final Model using Best Parameters\n",
        "#=====================\n",
        "best_params = {\n",
        "    'n_estimators': 200,\n",
        "    'max_depth': 5,\n",
        "    'learning_rate': 0.25,\n",
        "    'subsample': 1.0,\n",
        "    'colsample_bytree': 1.0,\n",
        "    'min_child_weight': 1,\n",
        "    'gamma': 0.1,\n",
        "    'reg_alpha': 0.1,\n",
        "    'reg_lambda': 1.5,\n",
        "    'scale_pos_weight': 1\n",
        "}\n",
        "\n",
        "final_xgb = xgb.XGBClassifier(\n",
        "    eval_metric='logloss',\n",
        "    random_state=42,\n",
        "    **best_params\n",
        ")\n",
        "\n",
        "final_xgb.fit(X_train, y_train)\n",
        "\n",
        "# Evaluate on validation set\n",
        "y_pred_val = final_xgb.predict(X_val)\n",
        "f1_final = f1_score(y_val, y_pred_val)\n",
        "print(\"Final Model F1-score:\", f\"{f1_final:.4f}\")\n",
        "\n",
        "# After tuning and finalizing the model, apply the same transformations to test data\n",
        "# For demonstration assume we have test data as test.csv\n",
        "test_data = pd.read_csv('/content/drive/MyDrive/cs506/test.csv')\n",
        "\n",
        "# Repeat preprocessing on test data\n",
        "test_data['trans_date'] = pd.to_datetime(test_data['trans_date'])\n",
        "test_data['trans_hour'] = test_data['trans_time'].str.split(':').str[0].astype(int)\n",
        "test_data['trans_day'] = test_data['trans_date'].dt.day\n",
        "test_data['trans_month'] = test_data['trans_date'].dt.month\n",
        "test_data['age'] = test_data.apply(lambda x: calculate_age(x['dob'], x['trans_date']), axis=1)\n",
        "test_data['distance'] = test_data.apply(lambda x: haversine(x['lat'], x['long'], x['merch_lat'], x['merch_long']), axis=1)\n",
        "test_data['gender'] = test_data['gender'].map({'M':0, 'F':1}).fillna(-1)\n",
        "\n",
        "# One-hot encode category in test set using the same categories from training\n",
        "test_cat_dummies = pd.get_dummies(test_data['category'], prefix='cat')\n",
        "\n",
        "# Align columns with training set\n",
        "for col in cat_features:\n",
        "    if col not in test_cat_dummies:\n",
        "        test_cat_dummies[col] = 0\n",
        "\n",
        "test_data = pd.concat([test_data, test_cat_dummies], axis=1)\n",
        "\n",
        "# Ensure test_data has the same feature columns as training\n",
        "missing_cols = set(feature_cols) - set(test_data.columns)\n",
        "for c in missing_cols:\n",
        "    test_data[c] = 0\n",
        "\n",
        "test_X = test_data[feature_cols]\n",
        "\n",
        "# Predict on test set\n",
        "test_preds = final_xgb.predict(test_X)\n",
        "\n",
        "# Prepare submission\n",
        "submission = pd.DataFrame({\n",
        "    'id': test_data['id'],\n",
        "    'is_fraud': test_preds\n",
        "})\n",
        "\n"
      ]
    },
    {
      "cell_type": "code",
      "source": [
        "submission.to_csv('/content/drive/MyDrive/cs506/submission.csv', index=False)"
      ],
      "metadata": {
        "id": "tlCPenfKTgnb"
      },
      "execution_count": 39,
      "outputs": []
    },
    {
      "cell_type": "code",
      "execution_count": null,
      "metadata": {
        "colab": {
          "base_uri": "https://localhost:8080/"
        },
        "id": "yYsr3XKLtzwH",
        "outputId": "e011f848-0154-445e-8353-890be9238845"
      },
      "outputs": [
        {
          "name": "stdout",
          "output_type": "stream",
          "text": [
            "Mounted at /content/drive\n"
          ]
        }
      ],
      "source": [
        "from google.colab import drive\n",
        "drive.mount('/content/drive')"
      ]
    },
    {
      "cell_type": "code",
      "execution_count": null,
      "metadata": {
        "id": "eLcqGIeIO7sI"
      },
      "outputs": [],
      "source": []
    },
    {
      "cell_type": "code",
      "execution_count": null,
      "metadata": {
        "id": "s20Vsx_CO7ue"
      },
      "outputs": [],
      "source": []
    },
    {
      "cell_type": "code",
      "execution_count": null,
      "metadata": {
        "id": "2ZZbYNgIO7wb"
      },
      "outputs": [],
      "source": []
    },
    {
      "cell_type": "code",
      "execution_count": null,
      "metadata": {
        "id": "J-wo482XO79_"
      },
      "outputs": [],
      "source": []
    }
  ],
  "metadata": {
    "colab": {
      "provenance": []
    },
    "kernelspec": {
      "display_name": "Python 3",
      "name": "python3"
    },
    "language_info": {
      "name": "python"
    }
  },
  "nbformat": 4,
  "nbformat_minor": 0
}